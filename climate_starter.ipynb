{
 "cells": [
  {
   "cell_type": "code",
   "execution_count": 1,
   "metadata": {},
   "outputs": [],
   "source": [
    "%matplotlib inline\n",
    "from matplotlib import style\n",
    "style.use('fivethirtyeight')\n",
    "import matplotlib.pyplot as plt"
   ]
  },
  {
   "cell_type": "code",
   "execution_count": 2,
   "metadata": {},
   "outputs": [],
   "source": [
    "import numpy as np\n",
    "import pandas as pd"
   ]
  },
  {
   "cell_type": "code",
   "execution_count": 3,
   "metadata": {},
   "outputs": [],
   "source": [
    "import datetime as dt"
   ]
  },
  {
   "cell_type": "markdown",
   "metadata": {},
   "source": [
    "# Reflect Tables into SQLAlchemy ORM"
   ]
  },
  {
   "cell_type": "code",
   "execution_count": 13,
   "metadata": {},
   "outputs": [],
   "source": [
    "# Python SQL toolkit and Object Relational Mapper\n",
    "import sqlalchemy\n",
    "from sqlalchemy.ext.automap import automap_base\n",
    "from sqlalchemy.orm import Session\n",
    "from sqlalchemy import create_engine, inspect, func, distinct"
   ]
  },
  {
   "cell_type": "code",
   "execution_count": 14,
   "metadata": {},
   "outputs": [],
   "source": [
    "engine = create_engine(\"sqlite:///Resources/hawaii.sqlite\")"
   ]
  },
  {
   "cell_type": "code",
   "execution_count": 15,
   "metadata": {},
   "outputs": [],
   "source": [
    "# reflect an existing database into a new model\n",
    "Base = automap_base()\n",
    "\n",
    "# reflect the tables\n",
    "Base.prepare(engine, reflect =True)"
   ]
  },
  {
   "cell_type": "code",
   "execution_count": 16,
   "metadata": {},
   "outputs": [
    {
     "data": {
      "text/plain": [
       "['measurement', 'station']"
      ]
     },
     "execution_count": 16,
     "metadata": {},
     "output_type": "execute_result"
    }
   ],
   "source": [
    "# We can view all of the classes that automap found\n",
    "Base.classes.keys()"
   ]
  },
  {
   "cell_type": "code",
   "execution_count": 17,
   "metadata": {},
   "outputs": [],
   "source": [
    "# Save references to each table\n",
    "Measurement = Base.classes.measurement\n",
    "Station = Base.classes.station"
   ]
  },
  {
   "cell_type": "code",
   "execution_count": 18,
   "metadata": {},
   "outputs": [],
   "source": [
    "# Create our session (link) from Python to the DB\n",
    "session = Session(engine)"
   ]
  },
  {
   "cell_type": "markdown",
   "metadata": {},
   "source": [
    "# Exploratory Climate Analysis"
   ]
  },
  {
   "cell_type": "code",
   "execution_count": 20,
   "metadata": {},
   "outputs": [
    {
     "name": "stdout",
     "output_type": "stream",
     "text": [
      "STATION\n",
      "id INTEGER\n",
      "station TEXT\n",
      "name TEXT\n",
      "latitude FLOAT\n",
      "longitude FLOAT\n",
      "elevation FLOAT\n",
      "MEASUREMENT\n",
      "id INTEGER\n",
      "station TEXT\n",
      "date TEXT\n",
      "prcp FLOAT\n",
      "tobs FLOAT\n"
     ]
    }
   ],
   "source": [
    "inspector = inspect(engine)\n",
    "\n",
    "print(\"STATION\")\n",
    "columns= inspector.get_columns('station')\n",
    "for column in columns:\n",
    "    print(column['name'], column[\"type\"])\n",
    "\n",
    "print(\"MEASUREMENT\")\n",
    "\n",
    "columns= inspector.get_columns('measurement')\n",
    "for column in columns:\n",
    "    print(column['name'], column[\"type\"])\n"
   ]
  },
  {
   "cell_type": "code",
   "execution_count": 21,
   "metadata": {},
   "outputs": [],
   "source": [
    "# Use Pandas to calcualte the summary statistics for the precipitation data\n",
    "latest_date = session.query(Measurement.date).order_by(Measurement.date.desc()).first()[0]\n",
    "formated_latest_date = dt.datetime.strptime(latest_date,\"%Y-%m-%d\").date()\n",
    "\n",
    "year_ago = formated_latest_date - dt.timedelta(days=365)"
   ]
  },
  {
   "cell_type": "code",
   "execution_count": 27,
   "metadata": {},
   "outputs": [
    {
     "data": {
      "text/plain": [
       "9"
      ]
     },
     "execution_count": 27,
     "metadata": {},
     "output_type": "execute_result"
    },
    {
     "data": {
      "image/png": "[encoded data removed]",
      "text/plain": [
       "<Figure size 432x288 with 1 Axes>"
      ]
     },
     "metadata": {},
     "output_type": "display_data"
    }
   ],
   "source": [
    "# Design a query to show how many stations are available in this dataset?\n",
    "one_year_measurement = session.query(Measurement.date, Measurement.prcp).filter(Measurement.date > year_ago).order_by(Measurement.date).all(\n",
    ")\n",
    "precipitation_df = pd.DataFrame(one_year_measurement, columns=[\"Date\", \"Precipitation\"])\n",
    "\n",
    "# Sort the dataframe by date\n",
    "\n",
    "precipitation_df = precipitation_df.sort_values(by=\"Date\").set_index(\"Date\")\n",
    "\n",
    "import matplotlib.dates as mdates\n",
    "\n",
    "inches = list(precipitation_df[\"Precipitation\"])\n",
    "date =  list(precipitation_df.index)\n",
    "\n",
    "axt = plt.gca()\n",
    "timet = [dt.datetime.strptime(d,\"%Y-%m-%d\").date() for d in date]\n",
    "formatter = mdates.DateFormatter(\"%Y-%m-%d\")\n",
    "axt.xaxis.set_major_formatter(formatter)\n",
    "\n",
    "locator = mdates.MonthLocator()\n",
    "axt.xaxis.set_major_locator(locator)\n",
    "\n",
    "Bar = plt.bar(timet,inches)\n",
    "plt.xlabel(\"date\")\n",
    "plt.ylabel(\"inches\")\n",
    "plt.title(\"Precipitation (inches) per day\")\n",
    "plt.xticks(rotation=90)\n",
    "plt.grid()\n",
    "plt.plot()\n",
    "\n",
    "stations_count = session.query(distinct(Station.station)).count()\n",
    "stations_count"
   ]
  },
  {
   "cell_type": "code",
   "execution_count": 30,
   "metadata": {},
   "outputs": [
    {
     "data": {
      "text/plain": [
       "'USC00519281'"
      ]
     },
     "execution_count": 30,
     "metadata": {},
     "output_type": "execute_result"
    }
   ],
   "source": [
    "# What are the most active stations? (i.e. what stations have the most rows)?\n",
    "# List the stations and the counts in descending order.\n",
    "stations_count = session.query(Measurement.station, func.count(Measurement.station)).\\\n",
    "                        group_by(Measurement.station).\\\n",
    "                        order_by(func.count(Measurement.station).desc()).all()\n",
    "\n",
    "most_active_station = session.query(Measurement.station, func.count(Measurement.station)).\\\n",
    "                        group_by(Measurement.station).\\\n",
    "                        order_by(func.count(Measurement.station).desc()).all()[0][0]\n",
    "most_active_station"
   ]
  },
  {
   "cell_type": "code",
   "execution_count": 31,
   "metadata": {},
   "outputs": [
    {
     "name": "stdout",
     "output_type": "stream",
     "text": [
      "The minimun temperature in station USC00519281 is 54.0\n",
      "The maximum temperature in station USC00519281 is 85.0\n",
      "The average temperature in station USC00519281 is 71.66\n"
     ]
    }
   ],
   "source": [
    "# Using the station id from the previous query, calculate the lowest temperature recorded, \n",
    "# highest temperature recorded, and average temperature of the most active station?\n",
    "min_temperature = session.query(func.min(Measurement.tobs)).\\\n",
    "    filter(Measurement.station == most_active_station).all()[0][0]\n",
    "\n",
    "max_temperature = session.query( func.max(Measurement.tobs)).\\\n",
    "    filter(Measurement.station == most_active_station).all()[0][0]\n",
    "\n",
    "avg_temperature = session.query(func.avg(Measurement.tobs)).\\\n",
    "    filter(Measurement.station == most_active_station).all()[0][0]\n",
    "\n",
    "\n",
    "print(f\"The minimun temperature in station {most_active_station} is {min_temperature}\")\n",
    "print(f\"The maximum temperature in station {most_active_station} is {max_temperature}\")\n",
    "print(f\"The average temperature in station {most_active_station} is {round(avg_temperature, 2)}\")"
   ]
  },
  {
   "cell_type": "code",
   "execution_count": 32,
   "metadata": {},
   "outputs": [
    {
     "data": {
      "image/png": "[encoded data removed]",
      "text/plain": [
       "<Figure size 432x288 with 1 Axes>"
      ]
     },
     "metadata": {},
     "output_type": "display_data"
    }
   ],
   "source": [
    "# Choose the station with the highest number of temperature observations.\n",
    "# Query the last 12 months of temperature observation data for this station and plot the results as a histogram\n",
    "one_year_temperature = session.query(Measurement.tobs).\\\n",
    "                    filter(Measurement.date <= formated_latest_date).\\\n",
    "                    filter(Measurement.date >= year_ago).\\\n",
    "                    order_by(Measurement.date).all()\n",
    "\n",
    "temperature_df = pd.DataFrame(one_year_temperature, columns = [\"Temperature\"])\n",
    "\n",
    "temperature_df.hist(column = \"Temperature\")\n",
    "plt.xlabel(\"Temperature (F)\")\n",
    "plt.ylabel(\"Frequency\")\n",
    "plt.show()"
   ]
  },
  {
   "cell_type": "markdown",
   "metadata": {},
   "source": [
    "## Bonus Challenge Assignment"
   ]
  },
  {
   "cell_type": "code",
   "execution_count": 34,
   "metadata": {},
   "outputs": [
    {
     "name": "stdout",
     "output_type": "stream",
     "text": [
      "[(62.0, 69.57142857142857, 74.0)]\n"
     ]
    }
   ],
   "source": [
    "# This function called `calc_temps` will accept start date and end date in the format '%Y-%m-%d' \n",
    "# and return the minimum, average, and maximum temperatures for that range of dates\n",
    "def calc_temps(start_date, end_date):\n",
    "    return session.query(func.min(Measurement.tobs), func.avg(Measurement.tobs), func.max(Measurement.tobs)).\\\n",
    "        filter(Measurement.date >= start_date).filter(Measurement.date <= end_date).all()\n",
    "\n",
    "# function usage example\n",
    "print(calc_temps('2012-02-28', '2012-03-05'))"
   ]
  },
  {
   "cell_type": "code",
   "execution_count": 35,
   "metadata": {},
   "outputs": [
    {
     "name": "stdout",
     "output_type": "stream",
     "text": [
      "The minimum temperature between the dates is: 72.0\n",
      "The average temperature between the dates is: 77.46\n",
      "The maximum temperature between the dates is: 83.0\n"
     ]
    }
   ],
   "source": [
    "# Use your previous function `calc_temps` to calculate the tmin, tavg, and tmax \n",
    "# for your trip using the previous year's data for those same dates.\n",
    "[(tmin, tavg, tmax)] = calc_temps('2017-06-02', '2017-06-12')\n",
    "\n",
    "print(f\"The minimum temperature between the dates is: {tmin}\")\n",
    "print(f\"The average temperature between the dates is: {round(tavg, 2)}\")\n",
    "print(f\"The maximum temperature between the dates is: {tmax}\")"
   ]
  },
  {
   "cell_type": "code",
   "execution_count": 37,
   "metadata": {},
   "outputs": [
    {
     "data": {
      "image/png": "[encoded data removed]",
      "text/plain": [
       "<Figure size 216x360 with 1 Axes>"
      ]
     },
     "metadata": {},
     "output_type": "display_data"
    }
   ],
   "source": [
    "# Plot the results from your previous query as a bar chart. \n",
    "# Use \"Trip Avg Temp\" as your Title\n",
    "# Use the average temperature for the y value\n",
    "# Use the peak-to-peak (tmax-tmin) value as the y error bar (yerr)\n",
    "fig,ax = plt.subplots(figsize=(3,5))\n",
    "\n",
    "ax.bar(np.arange(1), tavg, yerr=tmax-tmin, align='center', alpha=0.3, ecolor='red' )\n",
    "ax.set_xticks(np.arange(1))\n",
    "\n",
    "ax.set_xticklabels(['Hawaii'])\n",
    "ax.set_ylabel(\"Temperature (F)\")\n",
    "ax.set_title('Trip Average Temp')\n",
    "plt.tight_layout()\n",
    "plt.show()"
   ]
  },
  {
   "cell_type": "code",
   "execution_count": 39,
   "metadata": {},
   "outputs": [
    {
     "name": "stdout",
     "output_type": "stream",
     "text": [
      "The total amount of rainfall in PEARL CITY, HI US station is None\n",
      "The total amount of rainfall in WAIKIKI 717.2, HI US station is 0.16\n",
      "The total amount of rainfall in WAIMANALO EXPERIMENTAL FARM, HI US station is 0.67\n",
      "The total amount of rainfall in KANEOHE 838.1, HI US station is 1.1300000000000001\n",
      "The total amount of rainfall in KUALOA RANCH HEADQUARTERS 886.9, HI US station is 1.4100000000000001\n",
      "The total amount of rainfall in WAIHEE 837.5, HI US station is 1.97\n",
      "The total amount of rainfall in MANOA LYON ARBO 785.2, HI US station is 2.35\n"
     ]
    }
   ],
   "source": [
    "# Calculate the total amount of rainfall per weather station for your trip dates using the previous year's matching dates.\n",
    "# Sort this in descending order by precipitation amount and list the station, name, latitude, longitude, and elevation\n",
    "\n",
    "rainfall = session.query(func.sum(Measurement.prcp), Station.name, Station.station, Station.latitude, Station.longitude, Station.elevation).\\\n",
    "                filter(Station.station == Measurement.station).order_by(func.sum(Measurement.prcp)).\\\n",
    "                filter(Measurement.date >= '2017-06-02').\\\n",
    "                filter(Measurement.date <= '2017-06-12').\\\n",
    "                group_by(Station.station).all()\n",
    "for x in rainfall:\n",
    "    \n",
    "    print(f\"The total amount of rainfall in {x[1]} station is {x[0]}\")"
   ]
  },
  {
   "cell_type": "code",
   "execution_count": 40,
   "metadata": {},
   "outputs": [
    {
     "data": {
      "text/plain": [
       "[(62.0, 69.15384615384616, 77.0)]"
      ]
     },
     "execution_count": 40,
     "metadata": {},
     "output_type": "execute_result"
    }
   ],
   "source": [
    "# Create a query that will calculate the daily normals \n",
    "# (i.e. the averages for tmin, tmax, and tavg for all historic data matching a specific month and day)\n",
    "\n",
    "def daily_normals(date):\n",
    " \n",
    "    sel = [func.min(Measurement.tobs), func.avg(Measurement.tobs), func.max(Measurement.tobs)]\n",
    "    return session.query(*sel).filter(func.strftime(\"%m-%d\", Measurement.date) == date).all()\n",
    "    \n",
    "daily_normals(\"01-01\")"
   ]
  },
  {
   "cell_type": "code",
   "execution_count": 41,
   "metadata": {},
   "outputs": [
    {
     "name": "stdout",
     "output_type": "stream",
     "text": [
      "[(65.0, 74.4, 81.0), (65.0, 74.03448275862068, 80.0), (65.0, 73.81818181818181, 81.0), (68.0, 74.85454545454546, 81.0), (70.0, 75.17543859649123, 80.0), (68.0, 75.07142857142857, 81.0), (70.0, 75.58620689655173, 81.0), (69.0, 75.15254237288136, 81.0), (68.0, 75.14285714285714, 81.0), (69.0, 76.01960784313725, 84.0), (66.0, 75.66666666666667, 83.0)]\n"
     ]
    }
   ],
   "source": [
    "# calculate the daily normals for your trip\n",
    "# push each tuple of calculations into a list called `normals`\n",
    "\n",
    "# Set the start and end date of the trip\n",
    "\n",
    "# Use the start and end date to create a range of dates\n",
    "\n",
    "# Stip off the year and save a list of %m-%d strings\n",
    "\n",
    "# Loop through the list of %m-%d strings and calculate the normals for each date\n",
    "i = 0\n",
    "dates = []\n",
    "while i < 11: \n",
    "    travel_date = dt.date(2017,6,2) + dt.timedelta(days = i)\n",
    "    dates.append(travel_date.strftime(\"%m-%d\"))\n",
    "    i = i + 1\n",
    "\n",
    "# Loop through the list of %m-%d strings and calculate the normals for each date\n",
    "\n",
    "normals = []\n",
    "for date in dates:\n",
    "    normals.append(daily_normals(date)[0])\n",
    "    \n",
    "print(normals)"
   ]
  },
  {
   "cell_type": "code",
   "execution_count": 45,
   "metadata": {},
   "outputs": [
    {
     "data": {
      "text/html": [
       "<div>\n",
       "<style scoped>\n",
       "    .dataframe tbody tr th:only-of-type {\n",
       "        vertical-align: middle;\n",
       "    }\n",
       "\n",
       "    .dataframe tbody tr th {\n",
       "        vertical-align: top;\n",
       "    }\n",
       "\n",
       "    .dataframe thead th {\n",
       "        text-align: right;\n",
       "    }\n",
       "</style>\n",
       "<table border=\"1\" class=\"dataframe\">\n",
       "  <thead>\n",
       "    <tr style=\"text-align: right;\">\n",
       "      <th></th>\n",
       "      <th>Min</th>\n",
       "      <th>Avg</th>\n",
       "      <th>Max</th>\n",
       "    </tr>\n",
       "    <tr>\n",
       "      <th>Date</th>\n",
       "      <th></th>\n",
       "      <th></th>\n",
       "      <th></th>\n",
       "    </tr>\n",
       "  </thead>\n",
       "  <tbody>\n",
       "    <tr>\n",
       "      <th>06-02</th>\n",
       "      <td>65.0</td>\n",
       "      <td>74.400000</td>\n",
       "      <td>81.0</td>\n",
       "    </tr>\n",
       "    <tr>\n",
       "      <th>06-03</th>\n",
       "      <td>65.0</td>\n",
       "      <td>74.034483</td>\n",
       "      <td>80.0</td>\n",
       "    </tr>\n",
       "    <tr>\n",
       "      <th>06-04</th>\n",
       "      <td>65.0</td>\n",
       "      <td>73.818182</td>\n",
       "      <td>81.0</td>\n",
       "    </tr>\n",
       "    <tr>\n",
       "      <th>06-05</th>\n",
       "      <td>68.0</td>\n",
       "      <td>74.854545</td>\n",
       "      <td>81.0</td>\n",
       "    </tr>\n",
       "    <tr>\n",
       "      <th>06-06</th>\n",
       "      <td>70.0</td>\n",
       "      <td>75.175439</td>\n",
       "      <td>80.0</td>\n",
       "    </tr>\n",
       "    <tr>\n",
       "      <th>06-07</th>\n",
       "      <td>68.0</td>\n",
       "      <td>75.071429</td>\n",
       "      <td>81.0</td>\n",
       "    </tr>\n",
       "    <tr>\n",
       "      <th>06-08</th>\n",
       "      <td>70.0</td>\n",
       "      <td>75.586207</td>\n",
       "      <td>81.0</td>\n",
       "    </tr>\n",
       "    <tr>\n",
       "      <th>06-09</th>\n",
       "      <td>69.0</td>\n",
       "      <td>75.152542</td>\n",
       "      <td>81.0</td>\n",
       "    </tr>\n",
       "    <tr>\n",
       "      <th>06-10</th>\n",
       "      <td>68.0</td>\n",
       "      <td>75.142857</td>\n",
       "      <td>81.0</td>\n",
       "    </tr>\n",
       "    <tr>\n",
       "      <th>06-11</th>\n",
       "      <td>69.0</td>\n",
       "      <td>76.019608</td>\n",
       "      <td>84.0</td>\n",
       "    </tr>\n",
       "    <tr>\n",
       "      <th>06-12</th>\n",
       "      <td>66.0</td>\n",
       "      <td>75.666667</td>\n",
       "      <td>83.0</td>\n",
       "    </tr>\n",
       "  </tbody>\n",
       "</table>\n",
       "</div>"
      ],
      "text/plain": [
       "        Min        Avg   Max\n",
       "Date                        \n",
       "06-02  65.0  74.400000  81.0\n",
       "06-03  65.0  74.034483  80.0\n",
       "06-04  65.0  73.818182  81.0\n",
       "06-05  68.0  74.854545  81.0\n",
       "06-06  70.0  75.175439  80.0\n",
       "06-07  68.0  75.071429  81.0\n",
       "06-08  70.0  75.586207  81.0\n",
       "06-09  69.0  75.152542  81.0\n",
       "06-10  68.0  75.142857  81.0\n",
       "06-11  69.0  76.019608  84.0\n",
       "06-12  66.0  75.666667  83.0"
      ]
     },
     "execution_count": 45,
     "metadata": {},
     "output_type": "execute_result"
    }
   ],
   "source": [
    "# Load the previous query results into a Pandas DataFrame and add the `trip_dates` range as the `date` index\n",
    "vacation_tmp_df = pd.DataFrame(normals, columns = [\"Min\", \"Avg\", \"Max\"])\n",
    "vacation_tmp_df[\"Date\"] = dates\n",
    "vacation_tmp_df = vacation_tmp_df.set_index(\"Date\")\n",
    "vacation_tmp_df"
   ]
  },
  {
   "cell_type": "code",
   "execution_count": 48,
   "metadata": {},
   "outputs": [
    {
     "data": {
      "image/png": "[encoded data removed]",
      "text/plain": [
       "<Figure size 432x288 with 1 Axes>"
      ]
     },
     "metadata": {},
     "output_type": "display_data"
    }
   ],
   "source": [
    "# Plot the daily normals as an area plot with `stacked=False`\n",
    "vacation_tmp_df.plot(kind='area', stacked=False)\n",
    "plt.legend(loc='lower right')\n",
    "plt.ylabel(\"Temperature (F)\")\n",
    "plt.title(\"Vacation Daily Normals\")\n",
    "plt.tight_layout()\n",
    "plt.show()"
   ]
  },
  {
   "cell_type": "code",
   "execution_count": null,
   "metadata": {},
   "outputs": [],
   "source": []
  }
 ],
 "metadata": {
  "kernel_info": {
   "name": "python3"
  },
  "kernelspec": {
   "display_name": "Python 3",
   "language": "python",
   "name": "python3"
  },
  "language_info": {
   "codemirror_mode": {
    "name": "ipython",
    "version": 3
   },
   "file_extension": ".py",
   "mimetype": "text/x-python",
   "name": "python",
   "nbconvert_exporter": "python",
   "pygments_lexer": "ipython3",
   "version": "3.7.6"
  },
  "nteract": {
   "version": "0.12.3"
  },
  "varInspector": {
   "cols": {
    "lenName": 16,
    "lenType": 16,
    "lenVar": 40
   },
   "kernels_config": {
    "python": {
     "delete_cmd_postfix": "",
     "delete_cmd_prefix": "del ",
     "library": "var_list.py",
     "varRefreshCmd": "print(var_dic_list())"
    },
    "r": {
     "delete_cmd_postfix": ") ",
     "delete_cmd_prefix": "rm(",
     "library": "var_list.r",
     "varRefreshCmd": "cat(var_dic_list()) "
    }
   },
   "types_to_exclude": [
    "module",
    "function",
    "builtin_function_or_method",
    "instance",
    "_Feature"
   ],
   "window_display": false
  }
 },
 "nbformat": 4,
 "nbformat_minor": 2
}
